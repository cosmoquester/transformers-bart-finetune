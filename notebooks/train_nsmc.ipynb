{
  "nbformat": 4,
  "nbformat_minor": 0,
  "metadata": {
    "colab": {
      "name": "train-nsmc",
      "provenance": [],
      "collapsed_sections": []
    },
    "kernelspec": {
      "name": "python3",
      "display_name": "Python 3"
    },
    "language_info": {
      "name": "python"
    },
    "accelerator": "TPU"
  },
  "cells": [
    {
      "cell_type": "code",
      "metadata": {
        "id": "Ih731fUio05R"
      },
      "source": [
        "!pip install git+https://github.com/cosmoquester/transformers-tf-finetune.git"
      ],
      "execution_count": null,
      "outputs": []
    },
    {
      "cell_type": "code",
      "metadata": {
        "id": "vrvYJ8reqBFV"
      },
      "source": [
        "import argparse\n",
        "import csv\n",
        "import random\n",
        "import sys\n",
        "import urllib.request\n",
        "\n",
        "import tensorflow as tf\n",
        "from transformers import AdamWeightDecay, AutoTokenizer, TFAutoModelForSequenceClassification\n",
        "\n",
        "from transformers_tf_finetune.utils import (\n",
        "    LRScheduler,\n",
        "    get_device_strategy,\n",
        "    get_logger,\n",
        "    path_join,\n",
        "    set_random_seed,\n",
        "    tfbart_sequence_classifier_to_transformers,\n",
        ")"
      ],
      "execution_count": null,
      "outputs": []
    },
    {
      "cell_type": "code",
      "metadata": {
        "id": "kwmp9q9AqOR_"
      },
      "source": [
        "tfbart_sequence_classifier_to_transformers()"
      ],
      "execution_count": null,
      "outputs": []
    },
    {
      "cell_type": "markdown",
      "metadata": {
        "id": "xjkDo06wuRAW"
      },
      "source": [
        "# Config"
      ]
    },
    {
      "cell_type": "code",
      "metadata": {
        "id": "1S1L2-t7qRxD"
      },
      "source": [
        "#: transformers pretrained path\n",
        "pretrained_model = \"cosmoquester/bart-ko-small\"\n",
        "#: pretrained tokenizer fast pretrained path\n",
        "pretrained_tokenizer = \"cosmoquester/bart-ko-small\"\n",
        "#: load from pytorch weight\n",
        "from_pytorch = False\n",
        "#: use huggingface credential for private model\n",
        "use_auth_token = \"\"\n",
        "\n",
        "train_dataset_path = \"https://raw.githubusercontent.com/e9t/nsmc/master/ratings_train.txt\"\n",
        "test_dataset_path = \"https://raw.githubusercontent.com/e9t/nsmc/master/ratings_test.txt\"\n",
        "#: output directory to save log and model checkpoints, should be GCS path with TPU\n",
        "output_path = None\n",
        "\n",
        "#: training params\n",
        "epochs = 3\n",
        "learning_rate = 5e-5\n",
        "min_learning_rate = 1e-5\n",
        "warmup_rate = 0.06\n",
        "warmup_steps = None\n",
        "batch_size = 256\n",
        "dev_batch_size = 256\n",
        "num_dev_dataset = 30000\n",
        "tensorboard_update_freq = 1\n",
        "\n",
        "#: device to use (TPU or GPU or CPU)\n",
        "device = \"TPU\"\n",
        "#: Use mixed precision FP16\n",
        "mixed_precision = False\n",
        "#: Set random seed\n",
        "seed = None"
      ],
      "execution_count": null,
      "outputs": []
    },
    {
      "cell_type": "code",
      "metadata": {
        "id": "wqP3q8KZvTXg"
      },
      "source": [
        "if output_path is not None and output_path.startswith(\"gs://\"):\n",
        "  from google.colab import auth\n",
        "  auth.authenticate_user()"
      ],
      "execution_count": null,
      "outputs": []
    },
    {
      "cell_type": "code",
      "metadata": {
        "id": "NZ6nno7nrgQH"
      },
      "source": [
        "def load_dataset(dataset_path: str, tokenizer: AutoTokenizer, shuffle: bool = False) -> tf.data.Dataset:\n",
        "    \"\"\"\n",
        "    Load NSMC dataset from local file or web\n",
        "\n",
        "    :param dataset_path: local file path or file uri\n",
        "    :param tokenizer: PreTrainedTokenizer for tokenizing\n",
        "    :param shuffle: whether shuffling lines or not\n",
        "    :returns: NSMC dataset, number of dataset\n",
        "    \"\"\"\n",
        "    if dataset_path.startswith(\"https://\"):\n",
        "        with urllib.request.urlopen(dataset_path) as response:\n",
        "            data = response.read().decode(\"utf-8\")\n",
        "    else:\n",
        "        with open(dataset_path) as f:\n",
        "            data = f.read()\n",
        "    lines = data.splitlines()[1:]\n",
        "    if shuffle:\n",
        "        random.shuffle(lines)\n",
        "\n",
        "    start_token = tokenizer.bos_token or tokenizer.cls_token\n",
        "    end_token = tokenizer.eos_token or tokenizer.sep_token\n",
        "\n",
        "    sentences = []\n",
        "    labels = []\n",
        "    for _, sentence, label in csv.reader(lines, delimiter=\"\\t\"):\n",
        "        sentences.append(start_token + sentence + end_token)\n",
        "        labels.append(int(label))\n",
        "\n",
        "    inputs = dict(\n",
        "        tokenizer(\n",
        "            sentences,\n",
        "            padding=True,\n",
        "            return_tensors=\"tf\",\n",
        "            return_token_type_ids=False,\n",
        "            return_attention_mask=True,\n",
        "        )\n",
        "    )\n",
        "\n",
        "    dataset = tf.data.Dataset.from_tensor_slices((inputs, labels))\n",
        "    return dataset"
      ],
      "execution_count": null,
      "outputs": []
    },
    {
      "cell_type": "code",
      "metadata": {
        "id": "BTej5sm8r5Jj"
      },
      "source": [
        "if seed:\n",
        "    set_random_seed(seed)"
      ],
      "execution_count": null,
      "outputs": []
    },
    {
      "cell_type": "code",
      "metadata": {
        "id": "ka-cxaFGsMqr"
      },
      "source": [
        "strategy = get_device_strategy(device)"
      ],
      "execution_count": null,
      "outputs": []
    },
    {
      "cell_type": "markdown",
      "metadata": {
        "id": "p4xdNRu2tiZq"
      },
      "source": [
        "# Mixed Precision"
      ]
    },
    {
      "cell_type": "code",
      "metadata": {
        "id": "A0UhTl2BtIIQ"
      },
      "source": [
        "with strategy.scope():\n",
        "    if mixed_precision:\n",
        "        mixed_type = \"mixed_bfloat16\" if device == \"TPU\" else \"mixed_float16\"\n",
        "        policy = tf.keras.mixed_precision.experimental.Policy(mixed_type)\n",
        "        tf.keras.mixed_precision.experimental.set_policy(policy)"
      ],
      "execution_count": null,
      "outputs": []
    },
    {
      "cell_type": "markdown",
      "metadata": {
        "id": "VWVZH3-VuWHh"
      },
      "source": [
        "# Load Dataset"
      ]
    },
    {
      "cell_type": "code",
      "metadata": {
        "id": "a73NxJD5tk8s"
      },
      "source": [
        "with strategy.scope():\n",
        "    tokenizer = AutoTokenizer.from_pretrained(pretrained_tokenizer, use_auth_token=use_auth_token)\n",
        "\n",
        "    dataset = load_dataset(train_dataset_path, tokenizer, True)\n",
        "    train_dataset = dataset.skip(num_dev_dataset).batch(batch_size)\n",
        "    dev_dataset = dataset.take(num_dev_dataset).batch(dev_batch_size)\n",
        "    test_dataset = load_dataset(test_dataset_path, tokenizer).batch(dev_batch_size)\n"
      ],
      "execution_count": null,
      "outputs": []
    },
    {
      "cell_type": "markdown",
      "metadata": {
        "id": "dYL-lnWOuZgm"
      },
      "source": [
        "# Load Model"
      ]
    },
    {
      "cell_type": "code",
      "metadata": {
        "id": "LLPZGWhdttFm"
      },
      "source": [
        "with strategy.scope():\n",
        "    model = TFAutoModelForSequenceClassification.from_pretrained(\n",
        "        pretrained_model, num_labels=2, use_auth_token=use_auth_token, from_pt=from_pytorch\n",
        "    )\n",
        "    model.config.id2label = {0: \"negative\", 1: \"positive\"}\n",
        "    model.config.label2id = {\"negative\": 0, \"positive\": 1}"
      ],
      "execution_count": null,
      "outputs": []
    },
    {
      "cell_type": "markdown",
      "metadata": {
        "id": "7s_B01rauc7S"
      },
      "source": [
        "# Model Compile"
      ]
    },
    {
      "cell_type": "code",
      "metadata": {
        "id": "cdIgKdMVtw0q"
      },
      "source": [
        "with strategy.scope():\n",
        "    outputs = model(tf.keras.Input([None], dtype=tf.int32), return_dict=True)\n",
        "    training_model = tf.keras.Model({\"input_ids\": model.input}, outputs.logits)\n",
        "    training_model.compile(\n",
        "        optimizer=AdamWeightDecay(\n",
        "            LRScheduler(\n",
        "                len(train_dataset) * epochs,\n",
        "                learning_rate,\n",
        "                min_learning_rate,\n",
        "                warmup_rate,\n",
        "                warmup_steps,\n",
        "            ),\n",
        "            weight_decay_rate=0.01,\n",
        "            exclude_from_weight_decay=[\"LayerNorm\", \"layer_norm\", \"bias\"],\n",
        "        ),\n",
        "        loss=tf.keras.losses.SparseCategoricalCrossentropy(from_logits=True),\n",
        "        metrics=[tf.keras.metrics.SparseCategoricalAccuracy(name=\"accuracy\")],\n",
        "    )"
      ],
      "execution_count": null,
      "outputs": []
    },
    {
      "cell_type": "markdown",
      "metadata": {
        "id": "Kp5JeBv-ueUN"
      },
      "source": [
        "# Model Training"
      ]
    },
    {
      "cell_type": "code",
      "metadata": {
        "id": "a34uOyuQtz71"
      },
      "source": [
        "with strategy.scope():\n",
        "    training_model.fit(\n",
        "        train_dataset,\n",
        "        validation_data=dev_dataset,\n",
        "        epochs=epochs,\n",
        "        callbacks=[\n",
        "            tf.keras.callbacks.ModelCheckpoint(\n",
        "                path_join(output_path, \"best_model.ckpt\"),\n",
        "                save_weights_only=True,\n",
        "                save_best_only=True,\n",
        "                monitor=\"val_accuracy\",\n",
        "                mode=\"max\",\n",
        "                verbose=1,\n",
        "            ),\n",
        "            tf.keras.callbacks.TensorBoard(path_join(output_path, \"logs\"), update_freq=tensorboard_update_freq),\n",
        "      ] if output_path is not None else None,\n",
        "    )"
      ],
      "execution_count": null,
      "outputs": []
    },
    {
      "cell_type": "markdown",
      "metadata": {
        "id": "DGFUZNarugBN"
      },
      "source": [
        "# Model Evaluate"
      ]
    },
    {
      "cell_type": "code",
      "metadata": {
        "id": "64m9DkPzt7XJ"
      },
      "source": [
        "with strategy.scope():\n",
        "    loss, accuracy = training_model.evaluate(test_dataset)"
      ],
      "execution_count": null,
      "outputs": []
    }
  ]
}