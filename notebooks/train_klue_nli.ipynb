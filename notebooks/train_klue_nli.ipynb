{
  "cells": [
    {
      "cell_type": "code",
      "execution_count": null,
      "metadata": {
        "id": "Ih731fUio05R"
      },
      "outputs": [],
      "source": [
        "!pip install git+https://github.com/cosmoquester/transformers-tf-finetune.git"
      ]
    },
    {
      "cell_type": "code",
      "execution_count": null,
      "metadata": {
        "id": "vrvYJ8reqBFV"
      },
      "outputs": [],
      "source": [
        "import json\n",
        "import random\n",
        "import urllib.request\n",
        "from typing import Dict\n",
        "\n",
        "import tensorflow as tf\n",
        "from transformers import AdamWeightDecay, AutoTokenizer, TFAutoModelForSequenceClassification\n",
        "\n",
        "from transformers_tf_finetune.utils import (\n",
        "    LRScheduler,\n",
        "    get_device_strategy,\n",
        "    path_join,\n",
        "    set_random_seed,\n",
        "    tfbart_sequence_classifier_to_transformers,\n",
        ")"
      ]
    },
    {
      "cell_type": "code",
      "execution_count": null,
      "metadata": {
        "id": "kwmp9q9AqOR_"
      },
      "outputs": [],
      "source": [
        "tfbart_sequence_classifier_to_transformers()"
      ]
    },
    {
      "cell_type": "markdown",
      "metadata": {
        "id": "xjkDo06wuRAW"
      },
      "source": [
        "# Config"
      ]
    },
    {
      "cell_type": "code",
      "execution_count": null,
      "metadata": {
        "id": "1S1L2-t7qRxD"
      },
      "outputs": [],
      "source": [
        "#: transformers pretrained path\n",
        "pretrained_model = \"cosmoquester/bart-ko-small\"\n",
        "#: pretrained tokenizer fast pretrained path\n",
        "pretrained_tokenizer = \"cosmoquester/bart-ko-small\"\n",
        "#: load from pytorch weight\n",
        "from_pytorch = False\n",
        "#: use huggingface credential for private model\n",
        "use_auth_token = \"\"\n",
        "\n",
        "train_dataset_path = \"https://raw.githubusercontent.com/KLUE-benchmark/KLUE/main/klue_benchmark/klue-nli-v1.1/klue-nli-v1.1_train.json\"\n",
        "dev_dataset_path = \"https://raw.githubusercontent.com/KLUE-benchmark/KLUE/main/klue_benchmark/klue-nli-v1.1/klue-nli-v1.1_dev.json\"\n",
        "#: output directory to save log and model checkpoints, should be GCS path with TPU\n",
        "output_path = None\n",
        "\n",
        "#: training params\n",
        "epochs = 10\n",
        "learning_rate = 5e-5\n",
        "min_learning_rate = 1e-5\n",
        "warmup_rate = 0.06\n",
        "warmup_steps = None\n",
        "batch_size = 128\n",
        "dev_batch_size = 512\n",
        "num_valid_dataset = 3000\n",
        "tensorboard_update_freq = 1\n",
        "\n",
        "#: device to use (TPU or GPU or CPU)\n",
        "device = \"TPU\"\n",
        "#: Use mixed precision FP16\n",
        "mixed_precision = False\n",
        "#: Set random seed\n",
        "seed = None"
      ]
    },
    {
      "cell_type": "code",
      "execution_count": null,
      "metadata": {
        "id": "wqP3q8KZvTXg"
      },
      "outputs": [],
      "source": [
        "if output_path is not None and output_path.startswith(\"gs://\"):\n",
        "  from google.colab import auth\n",
        "  auth.authenticate_user()"
      ]
    },
    {
      "cell_type": "code",
      "execution_count": null,
      "metadata": {
        "id": "NZ6nno7nrgQH"
      },
      "outputs": [],
      "source": [
        "def load_dataset(\n",
        "    dataset_path: str, tokenizer: AutoTokenizer, label2id: Dict[str, int], shuffle: bool = False\n",
        ") -> tf.data.Dataset:\n",
        "    \"\"\"\n",
        "    Load KLUE NLI dataset from local file or web\n",
        "\n",
        "    :param dataset_path: local file path or file uri\n",
        "    :param tokenizer: PreTrainedTokenizer for tokenizing\n",
        "    :param label2id: dictionary for mapping label to index\n",
        "    :param shuffle: whether shuffling lines or not\n",
        "    :returns: KLUE NLI dataset, number of dataset\n",
        "    \"\"\"\n",
        "    if dataset_path.startswith(\"https://\"):\n",
        "        with urllib.request.urlopen(dataset_path) as response:\n",
        "            data = response.read().decode(\"utf-8\")\n",
        "    else:\n",
        "        with open(dataset_path) as f:\n",
        "            data = f.read()\n",
        "    examples = json.loads(data)\n",
        "    if shuffle:\n",
        "        random.shuffle(examples)\n",
        "\n",
        "    start_token = tokenizer.bos_token or tokenizer.cls_token or \"\"\n",
        "    end_token = tokenizer.eos_token or tokenizer.sep_token or \"\"\n",
        "    sep = tokenizer.sep_token or tokenizer.eos_token\n",
        "\n",
        "    sentences = []\n",
        "    labels = []\n",
        "    for example in examples:\n",
        "        sentences.append(start_token + example[\"premise\"] + sep + example[\"hypothesis\"] + end_token)\n",
        "        labels.append(label2id[example[\"gold_label\"]])\n",
        "\n",
        "    inputs = dict(\n",
        "        tokenizer(\n",
        "            sentences,\n",
        "            padding=True,\n",
        "            return_tensors=\"tf\",\n",
        "            return_token_type_ids=False,\n",
        "            return_attention_mask=True,\n",
        "        )\n",
        "    )\n",
        "\n",
        "    dataset = tf.data.Dataset.from_tensor_slices((inputs, labels))\n",
        "    return dataset"
      ]
    },
    {
      "cell_type": "code",
      "execution_count": null,
      "metadata": {
        "id": "BTej5sm8r5Jj"
      },
      "outputs": [],
      "source": [
        "if seed:\n",
        "    set_random_seed(seed)"
      ]
    },
    {
      "cell_type": "code",
      "execution_count": null,
      "metadata": {
        "id": "ka-cxaFGsMqr"
      },
      "outputs": [],
      "source": [
        "strategy = get_device_strategy(device)"
      ]
    },
    {
      "cell_type": "markdown",
      "metadata": {
        "id": "p4xdNRu2tiZq"
      },
      "source": [
        "# Mixed Precision"
      ]
    },
    {
      "cell_type": "code",
      "execution_count": null,
      "metadata": {
        "id": "A0UhTl2BtIIQ"
      },
      "outputs": [],
      "source": [
        "with strategy.scope():\n",
        "    if mixed_precision:\n",
        "        mixed_type = \"mixed_bfloat16\" if device == \"TPU\" else \"mixed_float16\"\n",
        "        policy = tf.keras.mixed_precision.experimental.Policy(mixed_type)\n",
        "        tf.keras.mixed_precision.experimental.set_policy(policy)"
      ]
    },
    {
      "cell_type": "markdown",
      "metadata": {
        "id": "VWVZH3-VuWHh"
      },
      "source": [
        "# Load Dataset"
      ]
    },
    {
      "cell_type": "code",
      "execution_count": null,
      "metadata": {
        "id": "a73NxJD5tk8s"
      },
      "outputs": [],
      "source": [
        "with strategy.scope():\n",
        "    tokenizer = AutoTokenizer.from_pretrained(pretrained_tokenizer, use_auth_token=use_auth_token)\n",
        "\n",
        "    label2id = {\"neutral\": 0, \"entailment\": 1, \"contradiction\": 2}\n",
        "    dataset = load_dataset(train_dataset_path, tokenizer, label2id, True)\n",
        "    train_dataset = dataset.skip(num_valid_dataset).batch(batch_size)\n",
        "    valid_dataset = dataset.take(num_valid_dataset).batch(dev_batch_size)\n",
        "    dev_dataset = load_dataset(dev_dataset_path, tokenizer, label2id).batch(dev_batch_size)"
      ]
    },
    {
      "cell_type": "markdown",
      "metadata": {
        "id": "dYL-lnWOuZgm"
      },
      "source": [
        "# Load Model"
      ]
    },
    {
      "cell_type": "code",
      "execution_count": null,
      "metadata": {
        "id": "LLPZGWhdttFm"
      },
      "outputs": [],
      "source": [
        "with strategy.scope():\n",
        "    model = TFAutoModelForSequenceClassification.from_pretrained(\n",
        "        pretrained_model,\n",
        "        num_labels=len(label2id),\n",
        "        use_auth_token=use_auth_token,\n",
        "        from_pt=from_pytorch,\n",
        "    )\n",
        "    model.config.id2label = {v: k for k, v in label2id.items()}\n",
        "    model.config.label2id = label2id"
      ]
    },
    {
      "cell_type": "markdown",
      "metadata": {
        "id": "7s_B01rauc7S"
      },
      "source": [
        "# Model Compile"
      ]
    },
    {
      "cell_type": "code",
      "execution_count": null,
      "metadata": {
        "id": "cdIgKdMVtw0q"
      },
      "outputs": [],
      "source": [
        "with strategy.scope():\n",
        "    outputs = model(tf.keras.Input([None], dtype=tf.int32), return_dict=True)\n",
        "    training_model = tf.keras.Model({\"input_ids\": model.input}, outputs.logits)\n",
        "    training_model.compile(\n",
        "        optimizer=AdamWeightDecay(\n",
        "            LRScheduler(\n",
        "                len(train_dataset) * epochs,\n",
        "                learning_rate,\n",
        "                min_learning_rate,\n",
        "                warmup_rate,\n",
        "                warmup_steps,\n",
        "            ),\n",
        "            weight_decay_rate=0.01,\n",
        "            exclude_from_weight_decay=[\"LayerNorm\", \"layer_norm\", \"bias\"],\n",
        "        ),\n",
        "        loss=tf.keras.losses.SparseCategoricalCrossentropy(from_logits=True),\n",
        "        metrics=[tf.keras.metrics.SparseCategoricalAccuracy(name=\"accuracy\")],\n",
        "    )"
      ]
    },
    {
      "cell_type": "markdown",
      "metadata": {
        "id": "Kp5JeBv-ueUN"
      },
      "source": [
        "# Model Training"
      ]
    },
    {
      "cell_type": "code",
      "execution_count": null,
      "metadata": {
        "id": "a34uOyuQtz71"
      },
      "outputs": [],
      "source": [
        "with strategy.scope():\n",
        "    training_model.fit(\n",
        "        train_dataset,\n",
        "        validation_data=valid_dataset,\n",
        "        epochs=epochs,\n",
        "        callbacks=[\n",
        "            tf.keras.callbacks.ModelCheckpoint(\n",
        "                path_join(output_path, \"best_model.ckpt\"),\n",
        "                save_weights_only=True,\n",
        "                save_best_only=True,\n",
        "                monitor=\"val_accuracy\",\n",
        "                mode=\"max\",\n",
        "                verbose=1,\n",
        "            ),\n",
        "            tf.keras.callbacks.TensorBoard(\n",
        "                path_join(output_path, \"logs\"), update_freq=tensorboard_update_freq\n",
        "            ),\n",
        "        ] if output_path is not None else None,\n",
        "    )"
      ]
    },
    {
      "cell_type": "markdown",
      "metadata": {
        "id": "DGFUZNarugBN"
      },
      "source": [
        "# Model Evaluate"
      ]
    },
    {
      "cell_type": "code",
      "execution_count": null,
      "metadata": {
        "id": "64m9DkPzt7XJ"
      },
      "outputs": [],
      "source": [
        "with strategy.scope():\n",
        "    loss, accuracy = training_model.evaluate(dev_dataset)"
      ]
    }
  ],
  "metadata": {
    "accelerator": "TPU",
    "colab": {
      "collapsed_sections": [],
      "name": "train-klue-nli",
      "provenance": []
    },
    "kernelspec": {
      "display_name": "Python 3.7.3 64-bit",
      "language": "python",
      "name": "python3"
    },
    "language_info": {
      "name": "python",
      "version": "3.7.3"
    },
    "vscode": {
      "interpreter": {
        "hash": "aee8b7b246df8f9039afb4144a1f6fd8d2ca17a180786b69acc140d282b71a49"
      }
    }
  },
  "nbformat": 4,
  "nbformat_minor": 2
}
